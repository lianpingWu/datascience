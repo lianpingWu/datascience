{
 "cells": [
  {
   "cell_type": "markdown",
   "id": "9c70db55-2a40-4cb7-bdfc-9bcac46a5182",
   "metadata": {},
   "source": [
    "# Data Science Tools and Ecosystem"
   ]
  },
  {
   "cell_type": "markdown",
   "id": "b6ac6d96-9f72-4980-9257-a6851dd443b6",
   "metadata": {},
   "source": [
    "In this notebook, Data Science Tools and Ecosystem are summarized"
   ]
  },
  {
   "cell_type": "markdown",
   "id": "2c8c192f-61e5-4a8a-b132-4d73b4ef12f5",
   "metadata": {},
   "source": [
    "#### Some of the popular languages that Data Scientists use are:\n",
    "1. Python\n",
    "2. R\n",
    "3. SQL\n",
    "4. Java\n",
    "5. Julia\n",
    "6. Scala\n",
    "7. C/C++\n",
    "8. JavaScript"
   ]
  },
  {
   "cell_type": "markdown",
   "id": "8b683ce5-6c37-4331-81a6-56fbbd424752",
   "metadata": {},
   "source": [
    "#### Some of commonly used libraries used by Data Scientists include:\n",
    "1. TensorFlow\n",
    "2. NumPy\n",
    "3. SciPy\n",
    "4. Pandas\n",
    "5. Matplotlib\n",
    "6. Keras\n",
    "7. SciKit-Learn\n",
    "8. PyTorch"
   ]
  },
  {
   "cell_type": "markdown",
   "id": "0dd23fd3-9fa3-44c2-ac4a-d9d2d63b0715",
   "metadata": {},
   "source": [
    "|       Data Science Tools       |\n",
    "|:-:                             |\n",
    "|RStudio                        |\n",
    "|Apache Spark                   |\n",
    "|TensorFowlow                   |\n",
    "|Apache Hadoop                  |\r",
    "|RapidMine                      |"
   ]
  },
  {
   "cell_type": "markdown",
   "id": "01863e01-667c-42d6-ad46-df9624212e2b",
   "metadata": {},
   "source": [
    "#### Below are a few examples of evaluating arithmetic expressions in Python\n",
    "30/6"
   ]
  },
  {
   "cell_type": "code",
   "execution_count": 4,
   "id": "017e3158-6210-4f73-8cb1-4e8b273bbbbf",
   "metadata": {},
   "outputs": [
    {
     "data": {
      "text/plain": [
       "17"
      ]
     },
     "execution_count": 4,
     "metadata": {},
     "output_type": "execute_result"
    }
   ],
   "source": [
    "#This is a simple arithmetic expression to mutiply then add integers\n",
    "(3*4) + 5"
   ]
  },
  {
   "cell_type": "code",
   "execution_count": 5,
   "id": "b1d4cb82-be8c-47ce-a41f-2af7a61a9d75",
   "metadata": {},
   "outputs": [
    {
     "data": {
      "text/plain": [
       "3.3333333333333335"
      ]
     },
     "execution_count": 5,
     "metadata": {},
     "output_type": "execute_result"
    }
   ],
   "source": [
    "#This will convert 200 minutes to hours by diving by 60\n",
    "200 / 60"
   ]
  },
  {
   "attachments": {},
   "cell_type": "markdown",
   "id": "11106756-01c7-496f-9fd0-a8acc23e3d81",
   "metadata": {},
   "source": [
    "#### Objectives:  \n",
    "* Python\n",
    "* R\n",
    "* SQL\n",
    "* Java\n",
    "* Julia\n",
    "* Scala\n",
    "* C/C++\n",
    "* JavaScript"
   ]
  },
  {
   "cell_type": "markdown",
   "id": "cf093212-aab4-4b01-b2d9-c3a6cacb08cf",
   "metadata": {},
   "source": [
    "## Author  \n",
    "Lianping"
   ]
  },
  {
   "cell_type": "code",
   "execution_count": null,
   "id": "a33623e6-21f4-4e0c-aae4-f28527001c3c",
   "metadata": {},
   "outputs": [],
   "source": []
  }
 ],
 "metadata": {
  "kernelspec": {
   "display_name": "Python 3 (ipykernel)",
   "language": "python",
   "name": "python3"
  },
  "language_info": {
   "codemirror_mode": {
    "name": "ipython",
    "version": 3
   },
   "file_extension": ".py",
   "mimetype": "text/x-python",
   "name": "python",
   "nbconvert_exporter": "python",
   "pygments_lexer": "ipython3",
   "version": "3.10.6"
  }
 },
 "nbformat": 4,
 "nbformat_minor": 5
}
